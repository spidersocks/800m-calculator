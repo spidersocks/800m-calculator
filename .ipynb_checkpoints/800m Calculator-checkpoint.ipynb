{
 "cells": [
  {
   "cell_type": "markdown",
   "id": "b4d8c3b8",
   "metadata": {},
   "source": [
    "# 800m Calculator\n",
    "\n",
    "This notebook contains the functions used to produce an 800m racing and training calculator."
   ]
  },
  {
   "cell_type": "markdown",
   "id": "c15b916c",
   "metadata": {},
   "source": [
    "## Table of Contents"
   ]
  },
  {
   "cell_type": "markdown",
   "id": "c37cea61-8ed5-495e-9180-3ef0b70e5ed1",
   "metadata": {},
   "source": [
    "#### [Helper Functions](#Helper-Functions)\n",
    "* [Data Conversion Functions](#Data-Conversion-Functions)\n",
    "* [Modeling Functions](#Modeling-Functions)\n",
    "* [Prediction Functions](#Prediction-Functions)\n",
    "\n",
    "#### [Training Predictors](#Training-Predictors)\n",
    "* [600m x 3 Training](#600m-x-3-Training)\n",
    "* [600m, 400m x 3 Training](#600m,-400m-x-3-Training)\n",
    "* [600m, 300m x 4 Training](#600m,-300m-x-4-Training)\n",
    "* [500m x 3 Training](#500m-x-3-Training)\n",
    "* [300m x 5 Training (2 sets)](#300m-x-3-Training-(2-sets))"
   ]
  },
  {
   "cell_type": "markdown",
   "id": "779d0c76",
   "metadata": {},
   "source": [
    "## Imports"
   ]
  },
  {
   "cell_type": "code",
   "execution_count": 112,
   "id": "f4893925",
   "metadata": {},
   "outputs": [],
   "source": [
    "import pandas as pd\n",
    "import numpy as np\n",
    "from sklearn.linear_model import LinearRegression\n",
    "import os\n",
    "import pickle\n",
    "import math"
   ]
  },
  {
   "cell_type": "markdown",
   "id": "fb81d3eb-335a-4e81-824b-2bc3ed8662f1",
   "metadata": {},
   "source": [
    "## Helper Functions"
   ]
  },
  {
   "cell_type": "markdown",
   "id": "b62025dc",
   "metadata": {},
   "source": [
    "### Data Conversion Functions\n",
    "\n",
    "These functions convert time strings to seconds, and then seconds back into a nicely formatted string once operations have been performed."
   ]
  },
  {
   "cell_type": "code",
   "execution_count": 115,
   "id": "31d8e25d",
   "metadata": {},
   "outputs": [],
   "source": [
    "def convert_to_seconds(time_str):\n",
    "    try:\n",
    "        if \":\" not in time_str and \".\" not in time_str:\n",
    "            return float(time_str)\n",
    "        if \":\" in time_str:\n",
    "            parts = time_str.split(\":\")\n",
    "            if len(parts) == 2:\n",
    "                minutes = int(parts[0])\n",
    "                if len(parts[1]) < 2:\n",
    "                    parts[1] += \"0\"\n",
    "                seconds = float(parts[1])\n",
    "                return minutes * 60 + seconds\n",
    "            elif len(parts) > 2:\n",
    "                raise ValueError(\"Too many colons.\")\n",
    "        if \".\" in time_str:\n",
    "            parts = time_str.split(\".\")\n",
    "            if len(parts) == 2:\n",
    "                if len(parts[0]) == 1:\n",
    "                    minutes = int(parts[0])\n",
    "                else:\n",
    "                    return float(time_str)\n",
    "                if len(parts[1]) < 2:\n",
    "                    parts[1] += \"0\"\n",
    "                seconds = int(parts[1])\n",
    "                return minutes * 60 + seconds\n",
    "            elif len(parts) == 3:\n",
    "                minutes = int(parts[0])\n",
    "                seconds = int(parts[1])\n",
    "                fractional_seconds = float(\"0.\" + parts[2])\n",
    "                return minutes * 60 + seconds + fractional_seconds\n",
    "            else:\n",
    "                raise ValueError(\"Too many dots.\")\n",
    "        raise ValueError(\"Could not parse input.\")\n",
    "    except Exception as e:\n",
    "        raise ValueError(f\"Invalid input '{time_str}': {e}\")"
   ]
  },
  {
   "cell_type": "code",
   "execution_count": 116,
   "id": "78c377fc",
   "metadata": {},
   "outputs": [],
   "source": [
    "def seconds_to_minutes(seconds):\n",
    "    minutes = int(seconds // 60)\n",
    "    remaining_seconds = seconds % 60\n",
    "    if minutes == 0:\n",
    "        return f\"{remaining_seconds:05.2f}\"\n",
    "    else:\n",
    "        return f\"{minutes}:{remaining_seconds:05.2f}\""
   ]
  },
  {
   "cell_type": "code",
   "execution_count": 117,
   "id": "24173026",
   "metadata": {},
   "outputs": [],
   "source": [
    "def is_valid_time_format(time_str):\n",
    "    try:\n",
    "        convert_to_seconds(time_str)\n",
    "        return True\n",
    "    except Exception:\n",
    "        return False"
   ]
  },
  {
   "cell_type": "markdown",
   "id": "06cb5da9-3cdb-4e02-b269-9b5adab8e76b",
   "metadata": {},
   "source": [
    "### Modeling Functions"
   ]
  },
  {
   "cell_type": "markdown",
   "id": "5b3ff4e6-7f96-49c4-89cd-303e313a4fd4",
   "metadata": {},
   "source": [
    "#### Generating Training Tables\n",
    "\n",
    "Generates a training pace table based on specified inputs."
   ]
  },
  {
   "cell_type": "code",
   "execution_count": 120,
   "id": "65c81a5d-74a0-483f-9b74-d1668fb525d6",
   "metadata": {},
   "outputs": [],
   "source": [
    "def generate_training_table(\n",
    "    start_800,\n",
    "    start_intervals,\n",
    "    increments,\n",
    "    num_rows,\n",
    "    interval_names=None\n",
    "):\n",
    "    \"\"\"\n",
    "    Generalized training pace table generator.\n",
    "\n",
    "    Args:\n",
    "        start_800 (float): Starting 800m time (in seconds).\n",
    "        start_intervals (list of floats): Starting paces for each interval type (in seconds).\n",
    "        increments (list of floats): Amount each interval pace increases per 1s increment of 800m.\n",
    "        num_rows (int): Number of data points to generate.\n",
    "        interval_names (list of str, optional): Names for each interval column.\n",
    "\n",
    "    Returns:\n",
    "        pd.DataFrame: Training table with columns ['TARGET', interval_names...]\n",
    "    \"\"\"\n",
    "    data = {\n",
    "        \"TARGET\": [start_800 + i for i in range(num_rows)]\n",
    "    }\n",
    "    for idx, (start, inc) in enumerate(zip(start_intervals, increments)):\n",
    "        col_name = interval_names[idx] if interval_names else f\"interval_{idx+1}\"\n",
    "        data[col_name] = [start + i * inc for i in range(num_rows)]\n",
    "    return pd.DataFrame(data)"
   ]
  },
  {
   "cell_type": "markdown",
   "id": "7785147f",
   "metadata": {},
   "source": [
    "#### Loading Model from Pickle File\n",
    "\n",
    "Loads model from the external exported pickle file."
   ]
  },
  {
   "cell_type": "code",
   "execution_count": 122,
   "id": "0e7832b2",
   "metadata": {},
   "outputs": [],
   "source": [
    "def load_model(filepath):\n",
    "    with open(filepath, 'rb') as file:\n",
    "        model = pickle.load(file)\n",
    "    return model"
   ]
  },
  {
   "cell_type": "markdown",
   "id": "67bb3d0f-e3ff-48f3-b0eb-14612bafbeb8",
   "metadata": {},
   "source": [
    "#### General Linear Regression Model Function\n",
    "Fits a LinearRegression model and saves it to disk."
   ]
  },
  {
   "cell_type": "code",
   "execution_count": 124,
   "id": "a65100ab-d6ae-4f52-8f5c-aec83a0fac6f",
   "metadata": {},
   "outputs": [],
   "source": [
    "def fit_and_export_model(\n",
    "    df,\n",
    "    feature_cols,\n",
    "    target_col,\n",
    "    export_path\n",
    "):\n",
    "    \"\"\"\n",
    "    Fits a LinearRegression model using specified feature columns,\n",
    "    saves the model to disk, and returns the fitted model.\n",
    "\n",
    "    Args:\n",
    "        df (pd.DataFrame): Training data.\n",
    "        feature_cols (list of str): Names of the feature columns.\n",
    "        target_col (str): Name of the target column.\n",
    "        export_path (str): Where to save the trained model (.pkl).\n",
    "\n",
    "    Returns:\n",
    "        model: The trained LinearRegression model.\n",
    "    \"\"\"\n",
    "    from sklearn.linear_model import LinearRegression\n",
    "    import pickle\n",
    "\n",
    "    X = df[feature_cols]\n",
    "    y = df[target_col]\n",
    "    model = LinearRegression()\n",
    "    model.fit(X, y)\n",
    "    with open(export_path, 'wb') as f:\n",
    "        pickle.dump(model, f)\n",
    "    return model"
   ]
  },
  {
   "cell_type": "markdown",
   "id": "a87bfaaa-9887-4b66-a870-56ef7e5e203f",
   "metadata": {},
   "source": [
    "### Prediction Functions"
   ]
  },
  {
   "cell_type": "code",
   "execution_count": 126,
   "id": "c9b9c629-5dd5-4562-8d8b-4325640ed9c6",
   "metadata": {},
   "outputs": [],
   "source": [
    "def predict_800m(model, feature_cols, input_values):\n",
    "    \"\"\"\n",
    "    input_values: list\n",
    "        Each value either a string (e.g., \"1:24.43\") or a list of strings (splits).\n",
    "    \"\"\"\n",
    "    processed = []\n",
    "    for val in input_values:\n",
    "        if isinstance(val, list):\n",
    "            avg = sum(convert_to_seconds(x) for x in val) / len(val)\n",
    "            processed.append(avg)\n",
    "        else:\n",
    "            processed.append(convert_to_seconds(val))\n",
    "    X = pd.DataFrame([processed], columns=feature_cols)\n",
    "    prediction = model.predict(X)[0]\n",
    "    return {\n",
    "        \"predicted_seconds\": float(prediction),\n",
    "        \"predicted_formatted\": seconds_to_minutes(prediction)\n",
    "    }"
   ]
  },
  {
   "cell_type": "code",
   "execution_count": 127,
   "id": "8dce40cb-dd5e-45b3-a370-cecf1a6ee677",
   "metadata": {},
   "outputs": [],
   "source": [
    "def reverse_predict(df, target_col, goal_time, interval_cols, rounding=None):\n",
    "    val = convert_to_seconds(goal_time)\n",
    "    upper = math.ceil(val)\n",
    "    frac, lower = math.modf(val)\n",
    "    upper_row = df[df[target_col] == upper]\n",
    "    lower_row = df[df[target_col] == lower]\n",
    "    if upper_row.empty or lower_row.empty:\n",
    "        raise ValueError(\"Goal time is out of range.\")\n",
    "    if rounding is None:\n",
    "        rounding = [0.5] * len(interval_cols)\n",
    "    elif isinstance(rounding, (float, int)):\n",
    "        rounding = [rounding] * len(interval_cols)\n",
    "    splits = []\n",
    "    for idx, col in enumerate(interval_cols):\n",
    "        interp = (\n",
    "            upper_row[col].values[0] * frac +\n",
    "            lower_row[col].values[0] * (1 - frac)\n",
    "        )\n",
    "        rounded = round(interp / rounding[idx]) * rounding[idx]\n",
    "        splits.append({\n",
    "            \"interval\": col,\n",
    "            \"seconds\": float(rounded),\n",
    "            \"formatted\": seconds_to_minutes(rounded),\n",
    "        })\n",
    "    return splits"
   ]
  },
  {
   "cell_type": "markdown",
   "id": "a3d98325-6039-4437-a947-c568bffd09d1",
   "metadata": {},
   "source": [
    "## Training Predictors"
   ]
  },
  {
   "cell_type": "markdown",
   "id": "c287316f",
   "metadata": {},
   "source": [
    "### 600m x 3 Training"
   ]
  },
  {
   "cell_type": "markdown",
   "id": "0ee92420-7664-4d0e-ac3b-35bf3cf0595c",
   "metadata": {},
   "source": [
    "#### Data Generation\n",
    "\n",
    "Generate a dataset to use for training targets and times in absence of real training data."
   ]
  },
  {
   "cell_type": "code",
   "execution_count": 131,
   "id": "c7e22787-1e32-4bd7-8a7b-c10994cef342",
   "metadata": {},
   "outputs": [],
   "source": [
    "table_600 = generate_training_table(\n",
    "    start_800=96,\n",
    "    start_intervals=[74, 72, 70],\n",
    "    increments=[0.75, 0.75, 0.75],\n",
    "    num_rows=144,\n",
    "    interval_names=[\"First 600m\", \"Second 600m\", \"Third 600m\"]\n",
    ")"
   ]
  },
  {
   "cell_type": "code",
   "execution_count": 132,
   "id": "468f54f6-c66a-4aa7-89a8-91be75151e3b",
   "metadata": {},
   "outputs": [],
   "source": [
    "table_600.to_csv(os.getcwd() + \"/600.csv\", index=False)"
   ]
  },
  {
   "cell_type": "markdown",
   "id": "aa601210-a238-46ee-a96b-4169cc686d0f",
   "metadata": {},
   "source": [
    "#### Model Fit and Export\n",
    "\n",
    "Trains a sklearn LinearRegression model. Input is the 600m times. Output variable is the 800m race time.\n",
    "\n",
    "Model is exported and saved as `600_model.pkl` in the working directory."
   ]
  },
  {
   "cell_type": "code",
   "execution_count": 134,
   "id": "3b9c14fc-4922-4a69-80ec-76f5e9963315",
   "metadata": {},
   "outputs": [],
   "source": [
    "model_600 = fit_and_export_model(\n",
    "    df=table_600,\n",
    "    feature_cols=[\"First 600m\", \"Second 600m\", \"Third 600m\"],\n",
    "    target_col=\"TARGET\",\n",
    "    export_path=\"600_model.pkl\"\n",
    ")"
   ]
  },
  {
   "cell_type": "markdown",
   "id": "1333f7c0-18ba-4c12-9edc-a0252ac0bd17",
   "metadata": {},
   "source": [
    "#### Prediction Function\n",
    "\n",
    "Takes input data of three 600m times, converts these to seconds, feeds these into our Linear Regression model as input, and outputs an 800m time prediction in a readable user-friendly format."
   ]
  },
  {
   "cell_type": "code",
   "execution_count": 136,
   "id": "bb702ef1-09ae-4fb9-a795-9e993e391a3c",
   "metadata": {},
   "outputs": [
    {
     "name": "stdout",
     "output_type": "stream",
     "text": [
      "{'predicted_seconds': 114.66666666666661, 'predicted_formatted': '1:54.67'}\n"
     ]
    }
   ],
   "source": [
    "prediction = predict_800m(\n",
    "    model=model_600,\n",
    "    feature_cols=[\"First 600m\", \"Second 600m\", \"Third 600m\"],\n",
    "    input_values=[\"1:24\", \"1:26\", \"1:28\"]\n",
    ")\n",
    "print(prediction)"
   ]
  },
  {
   "cell_type": "markdown",
   "id": "a5233e80-e34c-4ee1-a369-f38fde366c64",
   "metadata": {},
   "source": [
    "#### Reverse Prediction Function\n",
    "\n",
    "Takes input data in the form of an 800m goal time. Returns the training splits needed to reach the goal time."
   ]
  },
  {
   "cell_type": "code",
   "execution_count": 138,
   "id": "b4187475-26c1-444f-98d8-814309c11b4e",
   "metadata": {},
   "outputs": [
    {
     "data": {
      "text/plain": [
       "[{'interval': 'First 600m', 'seconds': 88.0, 'formatted': '1:28.00'},\n",
       " {'interval': 'Second 600m', 'seconds': 86.0, 'formatted': '1:26.00'},\n",
       " {'interval': 'Third 600m', 'seconds': 84.0, 'formatted': '1:24.00'}]"
      ]
     },
     "execution_count": 138,
     "metadata": {},
     "output_type": "execute_result"
    }
   ],
   "source": [
    "reverse_predict(\n",
    "    df=table_600,\n",
    "    target_col=\"TARGET\",\n",
    "    goal_time=\"1:54.34\",\n",
    "    interval_cols=[\"First 600m\", \"Second 600m\", \"Third 600m\"],\n",
    "    rounding=0.5\n",
    ")\n",
    "# Output: \"First 600m pace: 1:28.00. Second 600m pace: 1:26.00. Third 600m pace: 1:24.00.\""
   ]
  },
  {
   "cell_type": "markdown",
   "id": "178b3a4c-5baa-4872-99c5-7638c7f7d168",
   "metadata": {},
   "source": [
    "### 600m, 400m x 3 Training"
   ]
  },
  {
   "cell_type": "markdown",
   "id": "2e958fd6",
   "metadata": {},
   "source": [
    "#### Data Generation\n",
    "\n",
    "Generate a dataset to use for training targets and times in absence of real training data."
   ]
  },
  {
   "cell_type": "code",
   "execution_count": 141,
   "id": "167fad6e",
   "metadata": {},
   "outputs": [],
   "source": [
    "table_600_400 = generate_training_table(\n",
    "    start_800=96,\n",
    "    start_intervals=[71.5, 50],                 # 600m, 400m\n",
    "    increments=[0.75, 0.5],\n",
    "    num_rows=144,\n",
    "    interval_names=[\"600m\", \"3x400 average\"]\n",
    ")"
   ]
  },
  {
   "cell_type": "code",
   "execution_count": 142,
   "id": "1fe45da9",
   "metadata": {},
   "outputs": [],
   "source": [
    "table_600_400.to_csv(os.getcwd() + \"/600_400.csv\", index=False)"
   ]
  },
  {
   "cell_type": "markdown",
   "id": "bebfe0cd-bcb4-4bb2-ae10-7eaee500ad9d",
   "metadata": {},
   "source": [
    "#### Model Fit and Export\n",
    "\n",
    "Trains a sklearn LinearRegression model. Input is the 600m time and average 3x400m split time. Output variable is the 800m race time.\n",
    "\n",
    "Model is exported and saved as `600__400_model.pkl` in the working directory."
   ]
  },
  {
   "cell_type": "code",
   "execution_count": 144,
   "id": "e335fc7c-76f2-4c38-b7b0-af4572ea78f3",
   "metadata": {},
   "outputs": [],
   "source": [
    "model_600_400 = fit_and_export_model(\n",
    "    df=table_600_400,\n",
    "    feature_cols=[\"600m\", \"3x400 average\"],\n",
    "    target_col=\"TARGET\",\n",
    "    export_path=\"600_400_model.pkl\"\n",
    ")"
   ]
  },
  {
   "cell_type": "markdown",
   "id": "1e9d7df6",
   "metadata": {},
   "source": [
    "#### Prediction Function\n",
    "\n",
    "Takes input data of four string times (one 600m time, and three 400m times), converts these to seconds, feeds these into our Linear Regression model as input, and outputs an 800m time prediction in a readable user-friendly format."
   ]
  },
  {
   "cell_type": "code",
   "execution_count": 146,
   "id": "690074c7",
   "metadata": {},
   "outputs": [
    {
     "name": "stdout",
     "output_type": "stream",
     "text": [
      "{'predicted_seconds': 110.4974358974359, 'predicted_formatted': '1:50.50'}\n"
     ]
    }
   ],
   "source": [
    "prediction = predict_800m(\n",
    "    model=model_600_400,\n",
    "    feature_cols=[\"600m\", \"3x400 average\"],\n",
    "    input_values=[\n",
    "        \"1:22.43\",                   # 600m time\n",
    "        [\"58.77\", \"56.02\", \"56.70\"]  # List of 400m splits (will be averaged)\n",
    "    ]\n",
    ")\n",
    "print(prediction)"
   ]
  },
  {
   "cell_type": "markdown",
   "id": "62d2cc24",
   "metadata": {},
   "source": [
    "#### Reverse Prediction Function\n",
    "\n",
    "Takes input data in the form of an 800m goal time. Returns the training splits needed to reach the goal time."
   ]
  },
  {
   "cell_type": "code",
   "execution_count": 148,
   "id": "c61c1dd7",
   "metadata": {},
   "outputs": [
    {
     "data": {
      "text/plain": [
       "[{'interval': '600m', 'seconds': 83.0, 'formatted': '1:23.00'},\n",
       " {'interval': '3x400 average', 'seconds': 57.5, 'formatted': '57.50'}]"
      ]
     },
     "execution_count": 148,
     "metadata": {},
     "output_type": "execute_result"
    }
   ],
   "source": [
    "reverse_predict(\n",
    "    df=table_600_400,\n",
    "    target_col=\"TARGET\",\n",
    "    goal_time=\"1:51.45\",\n",
    "    interval_cols=[\"600m\", \"3x400 average\"],\n",
    "    rounding=[0.5, 0.5]\n",
    ")\n",
    "# Output: \"600 pace: 1:23.00. 3X400 pace: 0:57.50.\""
   ]
  },
  {
   "cell_type": "markdown",
   "id": "4ac87460-544b-48fb-b675-b90eeb0f83d7",
   "metadata": {},
   "source": [
    "### 600m, 300m x 4 Training"
   ]
  },
  {
   "cell_type": "markdown",
   "id": "90f1da62-d359-4672-8bcc-ef4a26187a54",
   "metadata": {},
   "source": [
    "#### Data Generation\n",
    "\n",
    "Generate a dataset to use for training targets and times in absence of real training data."
   ]
  },
  {
   "cell_type": "code",
   "execution_count": 151,
   "id": "41a420db-03ca-4231-8d70-6138e8ad5a14",
   "metadata": {},
   "outputs": [],
   "source": [
    "table_600_300 = generate_training_table(\n",
    "    start_800=96,\n",
    "    start_intervals=[71.25, 35.25],             # 600m, 300m\n",
    "    increments=[0.75, 0.375],\n",
    "    num_rows=144,\n",
    "    interval_names=[\"600m\", \"4x300m average\"]\n",
    ")"
   ]
  },
  {
   "cell_type": "code",
   "execution_count": 152,
   "id": "4d6592d5-917c-4665-9f9f-3c9ed639a920",
   "metadata": {},
   "outputs": [],
   "source": [
    "table_600_300.to_csv(os.getcwd() + \"/600_300.csv\", index=False)"
   ]
  },
  {
   "cell_type": "markdown",
   "id": "220a6bc1-da90-4ac1-b701-ec1712aa659e",
   "metadata": {},
   "source": [
    "#### Model Fit and Export\n",
    "\n",
    "Trains a sklearn LinearRegression model. Input is the 600m time and average 4x300m split time. Output variable is the 800m race time.\n",
    "\n",
    "Model is exported and saved as `600__300_model.pkl` in the working directory."
   ]
  },
  {
   "cell_type": "code",
   "execution_count": 154,
   "id": "adef14d4-a549-4250-aed4-3b733f176eb8",
   "metadata": {},
   "outputs": [],
   "source": [
    "model_600_300 = fit_and_export_model(\n",
    "    df=table_600_300,\n",
    "    feature_cols=[\"600m\", \"4x300m average\"],\n",
    "    target_col=\"TARGET\",\n",
    "    export_path=\"600_300_model.pkl\"\n",
    ")"
   ]
  },
  {
   "cell_type": "markdown",
   "id": "5854371f-74bf-4846-8c63-64d5ef73a6b8",
   "metadata": {},
   "source": [
    "#### Prediction Function\n",
    "\n",
    "Takes input data of four string times (one 600m time, and four 300m times), converts these to seconds, feeds these into our Linear Regression model as input, and outputs an 800m time prediction in a readable user-friendly format."
   ]
  },
  {
   "cell_type": "code",
   "execution_count": 156,
   "id": "74c46634-b7d6-4428-9de8-7901e0c7ee12",
   "metadata": {},
   "outputs": [
    {
     "name": "stdout",
     "output_type": "stream",
     "text": [
      "{'predicted_seconds': 114.2666666666667, 'predicted_formatted': '1:54.27'}\n"
     ]
    }
   ],
   "source": [
    "prediction = predict_800m(\n",
    "    model=model_600_300,\n",
    "    feature_cols=[\"600m\", \"4x300m average\"],\n",
    "    input_values=[\n",
    "        \"1:24.43\",                          # 600m time\n",
    "        [\"45.32\", \"41.23\", \"42.45\", \"43.56\"] # List of 300m splits (will be averaged)\n",
    "    ]\n",
    ")\n",
    "print(prediction)"
   ]
  },
  {
   "cell_type": "markdown",
   "id": "cc9b45e4-a363-45bd-94b4-da3b999c96d8",
   "metadata": {},
   "source": [
    "#### Reverse Prediction Function\n",
    "\n",
    "Takes input data in the form of an 800m goal time. Returns the training splits needed to reach the goal time."
   ]
  },
  {
   "cell_type": "code",
   "execution_count": 158,
   "id": "2001bd0c-7233-405a-9b3a-1796260823ab",
   "metadata": {},
   "outputs": [
    {
     "data": {
      "text/plain": [
       "[{'interval': '600m', 'seconds': 85.5, 'formatted': '1:25.50'},\n",
       " {'interval': '4x300m average', 'seconds': 42.5, 'formatted': '42.50'}]"
      ]
     },
     "execution_count": 158,
     "metadata": {},
     "output_type": "execute_result"
    }
   ],
   "source": [
    "reverse_predict(\n",
    "    df=table_600_300,\n",
    "    target_col=\"TARGET\",\n",
    "    goal_time=\"1:54.78\",\n",
    "    interval_cols=[\"600m\", \"4x300m average\"],\n",
    "    rounding=[0.5, 0.5]\n",
    ")\n",
    "# Output: \"600 pace: 1:25.50. 4X300 pace: 0:43.00.\""
   ]
  },
  {
   "cell_type": "markdown",
   "id": "f80a44bf-fb55-4a80-bb15-cc1c56f39800",
   "metadata": {},
   "source": [
    "### 500m x 3 Training"
   ]
  },
  {
   "cell_type": "markdown",
   "id": "646e656b-cf0b-4b61-ae59-fd9634c093d2",
   "metadata": {},
   "source": [
    "#### Data Generation\n",
    "\n",
    "Generate a dataset to use for training targets and times in absence of real training data."
   ]
  },
  {
   "cell_type": "code",
   "execution_count": 161,
   "id": "e73fee0e-ce89-4dfb-9e6c-e944631575da",
   "metadata": {},
   "outputs": [],
   "source": [
    "table_500 = generate_training_table(\n",
    "    start_800=96,\n",
    "    start_intervals=[60.2, 59.2, 58.7],\n",
    "    increments=[0.6, 0.6, 0.6],\n",
    "    num_rows=144,\n",
    "    interval_names=[\"First 500m\", \"Second 500m\", \"Third 500m\"]\n",
    ")"
   ]
  },
  {
   "cell_type": "code",
   "execution_count": 162,
   "id": "1d72865b-ed3a-4b87-818e-c6f4ab428af9",
   "metadata": {},
   "outputs": [],
   "source": [
    "table_500.to_csv(os.getcwd() + \"/600.csv\", index=False)"
   ]
  },
  {
   "cell_type": "markdown",
   "id": "15e1ffda-8788-4d57-a159-c1d0a2b99e7e",
   "metadata": {},
   "source": [
    "#### Model Fit and Export\n",
    "\n",
    "Trains a sklearn LinearRegression model. Input is the 500m times. Output variable is the 800m race time.\n",
    "\n",
    "Model is exported and saved as `500_model.pkl` in the working directory."
   ]
  },
  {
   "cell_type": "code",
   "execution_count": 164,
   "id": "f5488e4f-f42b-486d-95f2-e8b4259829a8",
   "metadata": {},
   "outputs": [],
   "source": [
    "model_500 = fit_and_export_model(\n",
    "    df=table_500,\n",
    "    feature_cols=[\"First 500m\", \"Second 500m\", \"Third 500m\"],\n",
    "    target_col=\"TARGET\",\n",
    "    export_path=\"600_model.pkl\"\n",
    ")"
   ]
  },
  {
   "cell_type": "markdown",
   "id": "d426e640-04e0-4699-a545-79d62915a2cb",
   "metadata": {},
   "source": [
    "#### Prediction Function\n",
    "\n",
    "Takes input data of three 500m times, converts these to seconds, feeds these into our Linear Regression model as input, and outputs an 800m time prediction in a readable user-friendly format."
   ]
  },
  {
   "cell_type": "code",
   "execution_count": 166,
   "id": "122815f7-438a-4870-befd-62c8d1fa6dd1",
   "metadata": {},
   "outputs": [
    {
     "name": "stdout",
     "output_type": "stream",
     "text": [
      "{'predicted_seconds': 108.16666666666669, 'predicted_formatted': '1:48.17'}\n"
     ]
    }
   ],
   "source": [
    "prediction = predict_800m(\n",
    "    model=model_500,\n",
    "    feature_cols=[\"First 500m\", \"Second 500m\", \"Third 500m\"],\n",
    "    input_values=[\"1:09\", \"1:07\", \"1:04\"]\n",
    ")\n",
    "print(prediction)"
   ]
  },
  {
   "cell_type": "markdown",
   "id": "51c6f138-5c2a-4539-9e6f-92a6bee7311a",
   "metadata": {},
   "source": [
    "#### Reverse Prediction Function\n",
    "\n",
    "Takes input data in the form of an 800m goal time. Returns the training splits needed to reach the goal time."
   ]
  },
  {
   "cell_type": "code",
   "execution_count": 168,
   "id": "a3d78a81-804f-4791-b4a5-7383297420fe",
   "metadata": {},
   "outputs": [
    {
     "data": {
      "text/plain": [
       "[{'interval': 'First 500m', 'seconds': 70.0, 'formatted': '1:10.00'},\n",
       " {'interval': 'Second 500m', 'seconds': 69.0, 'formatted': '1:09.00'},\n",
       " {'interval': 'Third 500m', 'seconds': 68.5, 'formatted': '1:08.50'}]"
      ]
     },
     "execution_count": 168,
     "metadata": {},
     "output_type": "execute_result"
    }
   ],
   "source": [
    "reverse_predict(\n",
    "    df=table_500,\n",
    "    target_col=\"TARGET\",\n",
    "    goal_time=\"1:51.94\",\n",
    "    interval_cols=[\"First 500m\", \"Second 500m\", \"Third 500m\"],\n",
    "    rounding=0.5\n",
    ")\n",
    "# Output: \"First 500m pace: 1:10.00. Second 500m pace: 1:09.00. Third 500m pace: 1:08.50.\""
   ]
  },
  {
   "cell_type": "markdown",
   "id": "c0f3d32d",
   "metadata": {},
   "source": [
    "### 300m x 3 Training (2 sets)"
   ]
  },
  {
   "cell_type": "markdown",
   "id": "eb82b97d-2b00-48f5-b60d-c41ad2724db4",
   "metadata": {},
   "source": [
    "#### Data Generation\n",
    "\n",
    "Generate a dataset to use for training targets and times in absence of real training data."
   ]
  },
  {
   "cell_type": "code",
   "execution_count": 171,
   "id": "29937878",
   "metadata": {},
   "outputs": [],
   "source": [
    "table_300 = generate_training_table(\n",
    "    start_800=96,\n",
    "    start_intervals=[33.75, 33],                # First set, Second set (from your previous code: three, three-0.75)\n",
    "    increments=[0.375, 0.375],\n",
    "    num_rows=144,\n",
    "    interval_names=[\"Set 1 3x300m average\", \"Set 2 3x300m average\"]\n",
    ")"
   ]
  },
  {
   "cell_type": "code",
   "execution_count": 172,
   "id": "aacf00da",
   "metadata": {},
   "outputs": [],
   "source": [
    "table_300.to_csv(os.getcwd() + \"/300.csv\", index=False)"
   ]
  },
  {
   "cell_type": "markdown",
   "id": "3897d1ba-3107-4ca5-ab57-19f0dcf04360",
   "metadata": {},
   "source": [
    "#### Model Fit and Export\n",
    "\n",
    "Trains a sklearn LinearRegression model. Inputs are the average 300m times for set 1 and set 2. Output variable is the 800m race time.\n",
    "\n",
    "Model is exported and saved as `300_model.pkl` in the working directory."
   ]
  },
  {
   "cell_type": "code",
   "execution_count": 174,
   "id": "080311f9-1a47-4cf0-9e9b-e6726cfa4a5a",
   "metadata": {},
   "outputs": [],
   "source": [
    "model_300 = fit_and_export_model(\n",
    "    df=table_300,\n",
    "    feature_cols=[\"Set 1 3x300m average\", \"Set 2 3x300m average\"],\n",
    "    target_col=\"TARGET\",\n",
    "    export_path=\"model_300.pkl\"\n",
    ")"
   ]
  },
  {
   "cell_type": "markdown",
   "id": "2d1a4dae",
   "metadata": {},
   "source": [
    "#### Prediction Function\n",
    "\n",
    "Takes input data of six 300m times, converts these to seconds, feeds these into our Linear Regression model as input, and outputs an 800m time prediction in a readable user-friendly format."
   ]
  },
  {
   "cell_type": "code",
   "execution_count": 176,
   "id": "c2443fd2",
   "metadata": {},
   "outputs": [
    {
     "name": "stdout",
     "output_type": "stream",
     "text": [
      "{'predicted_seconds': 106.99999999999997, 'predicted_formatted': '1:47.00'}\n"
     ]
    }
   ],
   "source": [
    "prediction = predict_800m(\n",
    "    model=model_300,\n",
    "    feature_cols=[\"Set 1 3x300m average\", \"Set 2 3x300m average\"],\n",
    "    input_values=[\n",
    "        [\"38\", \"38\", \"38\"],   # First set of 3x300m\n",
    "        [\"37\", \"37\", \"37\"]    # Second set of 3x300m\n",
    "    ]\n",
    ")\n",
    "print(prediction)"
   ]
  },
  {
   "cell_type": "markdown",
   "id": "834e0db7",
   "metadata": {},
   "source": [
    "#### Reverse Prediction Function\n",
    "\n",
    "Takes input data in the form of an 800m goal time. Returns the training splits needed to reach the goal time."
   ]
  },
  {
   "cell_type": "code",
   "execution_count": 178,
   "id": "ca0b5e33",
   "metadata": {},
   "outputs": [
    {
     "data": {
      "text/plain": [
       "[{'interval': 'Set 1 3x300m average', 'seconds': 40.75, 'formatted': '40.75'},\n",
       " {'interval': 'Set 2 3x300m average', 'seconds': 40.0, 'formatted': '40.00'}]"
      ]
     },
     "execution_count": 178,
     "metadata": {},
     "output_type": "execute_result"
    }
   ],
   "source": [
    "reverse_predict(\n",
    "    df=table_300,\n",
    "    target_col=\"TARGET\",\n",
    "    goal_time=\"1:54.34\",\n",
    "    interval_cols=[\"Set 1 3x300m average\", \"Set 2 3x300m average\"],\n",
    "    rounding=[0.25, 0.25]\n",
    ")\n",
    "# Output: \"Set 1 3x300m average pace: 0:40.75. Set 2 3x300m average pace: 0:40.00.\""
   ]
  }
 ],
 "metadata": {
  "kernelspec": {
   "display_name": "Python [conda env:base] *",
   "language": "python",
   "name": "conda-base-py"
  },
  "language_info": {
   "codemirror_mode": {
    "name": "ipython",
    "version": 3
   },
   "file_extension": ".py",
   "mimetype": "text/x-python",
   "name": "python",
   "nbconvert_exporter": "python",
   "pygments_lexer": "ipython3",
   "version": "3.12.7"
  }
 },
 "nbformat": 4,
 "nbformat_minor": 5
}
